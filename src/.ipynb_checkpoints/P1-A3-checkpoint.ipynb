{
 "cells": [
  {
   "cell_type": "code",
   "execution_count": null,
   "metadata": {},
   "outputs": [],
   "source": [
    "import numpy as np\n",
    "import matplotlib.pyplot as plt\n",
    "import os\n"
   ]
  },
  {
   "cell_type": "code",
   "execution_count": null,
   "metadata": {},
   "outputs": [],
   "source": [
    "directorio = os.path.abspath('..\\data')\n",
    "\n",
    "\n",
    "archivos = ['A1','A2','A2_1','A2_2','A2_3','A2_4','A2_5','A2_6','A3_1','A3_2','A3_3','A3_4','A3_5']\n",
    "for i in archivos:\n",
    "    temp = np.loadtxt(directorio+'\\\\'+i+'.csv',delimiter=',',dtype = 'str')\n",
    "    exec('%s = temp[4:,:5].astype(''float'')'%i)\n",
    "    head = temp[0:2,:5]\n",
    "    \n",
    "    "
   ]
  },
  {
   "cell_type": "code",
   "execution_count": null,
   "metadata": {},
   "outputs": [],
   "source": [
    "ch = input('ingrese canal que desea observar (de 0 a 4 ) ')\n",
    "ch = int(ch)\n",
    "plt.figure(figsize=(12,4))\n",
    "plt.plot(A2_1[45000:55000,ch])\n",
    "plt.title('Segmento de %s en actividad 1 de práctica 0'%head[0,ch])\n",
    "plt.ylabel('%s'%head[1,ch])\n",
    "plt.xlabel('muestras')\n",
    "plt.grid(True)\n",
    "plt.show()"
   ]
  }
 ],
 "metadata": {
  "kernelspec": {
   "display_name": "Python 3",
   "language": "python",
   "name": "python3"
  },
  "language_info": {
   "codemirror_mode": {
    "name": "ipython",
    "version": 3
   },
   "file_extension": ".py",
   "mimetype": "text/x-python",
   "name": "python",
   "nbconvert_exporter": "python",
   "pygments_lexer": "ipython3",
   "version": "3.7.3"
  }
 },
 "nbformat": 4,
 "nbformat_minor": 2
}
