{
 "cells": [
  {
   "cell_type": "markdown",
   "metadata": {},
   "source": [
    "# Práctica 1 Actividad II\n",
    "## Actividad auto-dirigida\n",
    "Seguir los tutoriales de introducción a python y procesamiento de datos. Puede utilizar jupyter, colaboratory (https://colab.research.google.com) o trabajar directamente en el interprete."
   ]
  },
  {
   "cell_type": "code",
   "execution_count": 1,
   "metadata": {},
   "outputs": [
    {
     "name": "stdout",
     "output_type": "stream",
     "text": [
      "5 , 2 , 5 , 4 , 3\n"
     ]
    }
   ],
   "source": [
    "#1-. Genere una secuencia de 5 números enteros aleatorios\n",
    "from random import randint as rdit\n",
    "\n",
    "x = rdit (0,5)\n",
    "y = rdit (0,5)\n",
    "z = rdit (0,5)\n",
    "a = rdit (0,5)\n",
    "b = rdit (0,5)\n",
    "\n",
    "print(x,',',y, ',',z,',',a,',',b)"
   ]
  },
  {
   "cell_type": "code",
   "execution_count": 2,
   "metadata": {},
   "outputs": [
    {
     "name": "stdout",
     "output_type": "stream",
     "text": [
      "0.023718697976754053 , 0.795178636390551 , -0.5513926832235522 , 0.768267911456057 , 0.2614509375091705\n"
     ]
    }
   ],
   "source": [
    "#2-.Genere una secuencia de 5 números aleatorios de distribución gaussiana de media 0 y varianza .5\n",
    "from random import gauss as rdg\n",
    "A1 = rdg (0,0.5)\n",
    "A2 = rdg (0,0.5)\n",
    "A3 = rdg (0,0.5)\n",
    "A4 = rdg (0,0.5)\n",
    "A5 = rdg (0,0.5)\n",
    "print(A1,',',A2, ',',A3,',',A4,',',A5)\n"
   ]
  },
  {
   "cell_type": "code",
   "execution_count": 3,
   "metadata": {},
   "outputs": [
    {
     "name": "stdout",
     "output_type": "stream",
     "text": [
      "-0.309670820348545 , -0.9952055793465479 , -0.9822317066594406 , -1.8506220707678849 , -0.13880291097246822\n"
     ]
    }
   ],
   "source": [
    "#3-. Genere una secuencia de 5 números aleatorios de distribución gaussiana de media -1 y varianza 2\n",
    "from random import gauss as rdg\n",
    "B1 = rdg (-1,0.5)\n",
    "B2 = rdg (-1,0.5)\n",
    "B3 = rdg (-1,0.5)\n",
    "B4 = rdg (-1,0.5)\n",
    "B5 = rdg (-1,0.5)\n",
    "print(B1,',',B2, ',',B3,',',B4,',',B5)"
   ]
  },
  {
   "cell_type": "code",
   "execution_count": 4,
   "metadata": {},
   "outputs": [
    {
     "name": "stdout",
     "output_type": "stream",
     "text": [
      "media 0 y varianza 0.5\n",
      "-0.5174 , 0.4793 , 0.2231 , -0.1639 , -0.3694\n",
      "media -1 y varianza 0.5\n",
      "-0.7777 , -0.6669 , -0.6215 , -1.297 , -0.7157\n"
     ]
    }
   ],
   "source": [
    "#4-. Repita los ejercicios 2 y 3 incluyento el método round de la biblioteca estándar para redondear a 4 cifras decimales.\n",
    "from random import gauss as rdg\n",
    "A1 = round(rdg (0,0.5),4)\n",
    "A2 = round(rdg (0,0.5),4)\n",
    "A3 = round(rdg (0,0.5),4)\n",
    "A4 = round(rdg (0,0.5),4)\n",
    "A5 = round(rdg (0,0.5),4)\n",
    "\n",
    "B1 = round(rdg (-1,0.5),4)\n",
    "B2 = round(rdg (-1,0.5),4)\n",
    "B3 = round(rdg (-1,0.5),4)\n",
    "B4 = round(rdg (-1,0.5),4)\n",
    "B5 = round(rdg (-1,0.5),4)\n",
    "print('media 0 y varianza 0.5')\n",
    "print(A1,',',A2, ',',A3,',',A4,',',A5)\n",
    "print('media -1 y varianza 0.5' )\n",
    "print(B1,',',B2, ',',B3,',',B4,',',B5)"
   ]
  }
 ],
 "metadata": {
  "kernelspec": {
   "display_name": "Python 3",
   "language": "python",
   "name": "python3"
  },
  "language_info": {
   "codemirror_mode": {
    "name": "ipython",
    "version": 3
   },
   "file_extension": ".py",
   "mimetype": "text/x-python",
   "name": "python",
   "nbconvert_exporter": "python",
   "pygments_lexer": "ipython3",
   "version": "3.7.3"
  }
 },
 "nbformat": 4,
 "nbformat_minor": 2
}
