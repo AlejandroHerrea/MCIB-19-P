{
 "cells": [
  {
   "cell_type": "code",
   "execution_count": 14,
   "metadata": {},
   "outputs": [
    {
     "name": "stdout",
     "output_type": "stream",
     "text": [
      "5 , 4 , 2 , 0 , 0\n"
     ]
    }
   ],
   "source": [
    "#1-. Genere una secuencia de 5 números enteros aleatorios\n",
    "from random import randint as rdit\n",
    "\n",
    "x = rdit (0,5)\n",
    "y = rdit (0,5)\n",
    "z = rdit (0,5)\n",
    "a = rdit (0,5)\n",
    "b = rdit (0,5)\n",
    "\n",
    "print(x,',',y, ',',z,',',a,',',b)"
   ]
  },
  {
   "cell_type": "code",
   "execution_count": 15,
   "metadata": {},
   "outputs": [
    {
     "name": "stdout",
     "output_type": "stream",
     "text": [
      "0.017417917584734585 , -1.0338585269271692 , 0.12216910981696716 , -1.0039242961708184 , -1.4178578532879098\n"
     ]
    }
   ],
   "source": [
    "#2-.Genere una secuencia de 5 números aleatorios de distribución gaussiana de media 0 y varianza .5\n",
    "from random import gauss as rdg\n",
    "A1 = rdg (0,0.5)\n",
    "A2 = rdg (0,0.5)\n",
    "A3 = rdg (0,0.5)\n",
    "A4 = rdg (0,0.5)\n",
    "A5 = rdg (0,0.5)\n",
    "print(A1,',',A2, ',',A3,',',A4,',',A5)\n"
   ]
  },
  {
   "cell_type": "code",
   "execution_count": 17,
   "metadata": {},
   "outputs": [
    {
     "name": "stdout",
     "output_type": "stream",
     "text": [
      "-0.5625641216338546 , -1.1313218986139622 , -0.2555728829004421 , -1.1131442811164614 , -0.8989198259584857\n"
     ]
    }
   ],
   "source": [
    "#3-. Genere una secuencia de 5 números aleatorios de distribución gaussiana de media -1 y varianza 2\n",
    "from random import gauss as rdg\n",
    "B1 = rdg (-1,0.5)\n",
    "B2 = rdg (-1,0.5)\n",
    "B3 = rdg (-1,0.5)\n",
    "B4 = rdg (-1,0.5)\n",
    "B5 = rdg (-1,0.5)\n",
    "print(B1,',',B2, ',',B3,',',B4,',',B5)"
   ]
  },
  {
   "cell_type": "code",
   "execution_count": 24,
   "metadata": {},
   "outputs": [
    {
     "name": "stdout",
     "output_type": "stream",
     "text": [
      "media 0 y varianza 0.5\n",
      "-0.5337 , -0.0384 , 0.7544 , -0.3432 , -0.3316\n",
      "media -1 y varianza 0.5\n",
      "-1.0259 , -1.1969 , -0.6878 , -0.3732 , 0.3096\n"
     ]
    }
   ],
   "source": [
    "#4-. Repita los ejercicios 2 y 3 incluyento el método round de la biblioteca estándar para redondear a 4 cifras decimales.\n",
    "from random import gauss as rdg\n",
    "A1 = round(rdg (0,0.5),4)\n",
    "A2 = round(rdg (0,0.5),4)\n",
    "A3 = round(rdg (0,0.5),4)\n",
    "A4 = round(rdg (0,0.5),4)\n",
    "A5 = round(rdg (0,0.5),4)\n",
    "\n",
    "B1 = round(rdg (-1,0.5),4)\n",
    "B2 = round(rdg (-1,0.5),4)\n",
    "B3 = round(rdg (-1,0.5),4)\n",
    "B4 = round(rdg (-1,0.5),4)\n",
    "B5 = round(rdg (-1,0.5),4)\n",
    "print('media 0 y varianza 0.5')\n",
    "print(A1,',',A2, ',',A3,',',A4,',',A5)\n",
    "print('media -1 y varianza 0.5' )\n",
    "print(B1,',',B2, ',',B3,',',B4,',',B5)"
   ]
  },
  {
   "cell_type": "code",
   "execution_count": null,
   "metadata": {},
   "outputs": [],
   "source": []
  }
 ],
 "metadata": {
  "kernelspec": {
   "display_name": "Python 3",
   "language": "python",
   "name": "python3"
  },
  "language_info": {
   "codemirror_mode": {
    "name": "ipython",
    "version": 3
   },
   "file_extension": ".py",
   "mimetype": "text/x-python",
   "name": "python",
   "nbconvert_exporter": "python",
   "pygments_lexer": "ipython3",
   "version": "3.7.3"
  }
 },
 "nbformat": 4,
 "nbformat_minor": 2
}
